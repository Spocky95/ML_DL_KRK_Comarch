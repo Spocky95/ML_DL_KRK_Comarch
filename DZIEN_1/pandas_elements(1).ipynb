{
 "cells":[
  {
   "cell_type":"code",
   "source":[
    "import numpy as np\n",
    "import pandas as pd"
   ],
   "execution_count":1,
   "outputs":[
    
   ],
   "metadata":{
    "datalore":{
     "node_id":"ySN0m5SAWvD8irx3zGwGE6",
     "type":"CODE",
     "hide_input_from_viewers":true,
     "hide_output_from_viewers":true
    }
   }
  },
  {
   "cell_type":"code",
   "source":[
    "s1 = pd.Series([4,5,-6,2,13,9],index=['a','b','c','d','m','k'])\n",
    "s1"
   ],
   "execution_count":2,
   "outputs":[
    {
     "data":{
      "text\/html":[
       "<pre>a     4\n",
       "b     5\n",
       "c    -6\n",
       "d     2\n",
       "m    13\n",
       "k     9\n",
       "dtype: int64<\/pre>"
      ]
     },
     "metadata":{
      
     },
     "output_type":"display_data"
    }
   ],
   "metadata":{
    "datalore":{
     "node_id":"axjbqsmmyNB2o0xU5TnnmB",
     "type":"CODE",
     "hide_input_from_viewers":true,
     "hide_output_from_viewers":true
    }
   }
  },
  {
   "cell_type":"code",
   "source":[
    "sdata = {'Warszawa':455,'Lublin':411,'Kraków':421}\n",
    "s2 = pd.Series(sdata)\n",
    "s2"
   ],
   "execution_count":3,
   "outputs":[
    {
     "data":{
      "text\/html":[
       "<pre>Warszawa    455\n",
       "Lublin      411\n",
       "Kraków      421\n",
       "dtype: int64<\/pre>"
      ]
     },
     "metadata":{
      
     },
     "output_type":"display_data"
    }
   ],
   "metadata":{
    "datalore":{
     "node_id":"GvSh3vRRDaQE3TvdepQYjD",
     "type":"CODE",
     "hide_input_from_viewers":true,
     "hide_output_from_viewers":true
    }
   }
  },
  {
   "cell_type":"code",
   "source":[
    "data = {\n",
    "    'miasto':['Wrocław','Poznań','Gdańsk','Katowice'],\n",
    "    'wnioski':[434,754,234,754],\n",
    "    'projekty':[6,7,3,5]\n",
    "}\n",
    "\n",
    "frame = pd.DataFrame(data,index=['pierwszy','drugi','trzeci','czwarty'])\n",
    "frame"
   ],
   "execution_count":4,
   "outputs":[
    {
     "data":{
      "text\/html":[
       "<div>\n",
       "<style scoped>\n",
       "    .dataframe tbody tr th:only-of-type {\n",
       "        vertical-align: middle;\n",
       "    }\n",
       "\n",
       "    .dataframe tbody tr th {\n",
       "        vertical-align: top;\n",
       "    }\n",
       "\n",
       "    .dataframe thead th {\n",
       "        text-align: right;\n",
       "    }\n",
       "<\/style>\n",
       "<table border=\"1\" class=\"dataframe\">\n",
       "  <thead>\n",
       "    <tr style=\"text-align: right;\">\n",
       "      <th><\/th>\n",
       "      <th>miasto<\/th>\n",
       "      <th>wnioski<\/th>\n",
       "      <th>projekty<\/th>\n",
       "    <\/tr>\n",
       "  <\/thead>\n",
       "  <tbody>\n",
       "    <tr>\n",
       "      <th>pierwszy<\/th>\n",
       "      <td>Wrocław<\/td>\n",
       "      <td>434<\/td>\n",
       "      <td>6<\/td>\n",
       "    <\/tr>\n",
       "    <tr>\n",
       "      <th>drugi<\/th>\n",
       "      <td>Poznań<\/td>\n",
       "      <td>754<\/td>\n",
       "      <td>7<\/td>\n",
       "    <\/tr>\n",
       "    <tr>\n",
       "      <th>trzeci<\/th>\n",
       "      <td>Gdańsk<\/td>\n",
       "      <td>234<\/td>\n",
       "      <td>3<\/td>\n",
       "    <\/tr>\n",
       "    <tr>\n",
       "      <th>czwarty<\/th>\n",
       "      <td>Katowice<\/td>\n",
       "      <td>754<\/td>\n",
       "      <td>5<\/td>\n",
       "    <\/tr>\n",
       "  <\/tbody>\n",
       "<\/table>\n",
       "<\/div>"
      ]
     },
     "metadata":{
      
     },
     "output_type":"display_data"
    }
   ],
   "metadata":{
    "datalore":{
     "node_id":"JD6izPprU0mG4RACOacy7C",
     "type":"CODE",
     "hide_input_from_viewers":true,
     "hide_output_from_viewers":true
    }
   }
  },
  {
   "cell_type":"code",
   "source":[
    "daty = pd.date_range(\"20240115\",periods=6)\n",
    "daty"
   ],
   "execution_count":9,
   "outputs":[
    {
     "data":{
      "text\/plain":[
       "DatetimeIndex(['2024-01-15', '2024-01-16', '2024-01-17', '2024-01-18',\n",
       "               '2024-01-19', '2024-01-20'],\n",
       "              dtype='datetime64[ns]', freq='D')"
      ]
     },
     "metadata":{
      
     },
     "output_type":"display_data"
    }
   ],
   "metadata":{
    "datalore":{
     "node_id":"0LD2xyS74z6cQNxYU0FGB6",
     "type":"CODE",
     "hide_input_from_viewers":true,
     "hide_output_from_viewers":true
    }
   }
  },
  {
   "cell_type":"code",
   "source":[
    "df = pd.DataFrame(np.random.randn(6,4),index=daty,columns=list(\"ABCD\"))"
   ],
   "execution_count":10,
   "outputs":[
    
   ],
   "metadata":{
    "datalore":{
     "node_id":"i1Xmt1FXUHyRoBx6zT7U0j",
     "type":"CODE",
     "hide_input_from_viewers":true,
     "hide_output_from_viewers":true
    }
   }
  },
  {
   "cell_type":"code",
   "source":[
    "df"
   ],
   "execution_count":11,
   "outputs":[
    {
     "data":{
      "text\/html":[
       "<div>\n",
       "<style scoped>\n",
       "    .dataframe tbody tr th:only-of-type {\n",
       "        vertical-align: middle;\n",
       "    }\n",
       "\n",
       "    .dataframe tbody tr th {\n",
       "        vertical-align: top;\n",
       "    }\n",
       "\n",
       "    .dataframe thead th {\n",
       "        text-align: right;\n",
       "    }\n",
       "<\/style>\n",
       "<table border=\"1\" class=\"dataframe\">\n",
       "  <thead>\n",
       "    <tr style=\"text-align: right;\">\n",
       "      <th><\/th>\n",
       "      <th>A<\/th>\n",
       "      <th>B<\/th>\n",
       "      <th>C<\/th>\n",
       "      <th>D<\/th>\n",
       "    <\/tr>\n",
       "  <\/thead>\n",
       "  <tbody>\n",
       "    <tr>\n",
       "      <th>2024-01-15<\/th>\n",
       "      <td>-0.438922<\/td>\n",
       "      <td>1.192834<\/td>\n",
       "      <td>-0.081034<\/td>\n",
       "      <td>-0.451354<\/td>\n",
       "    <\/tr>\n",
       "    <tr>\n",
       "      <th>2024-01-16<\/th>\n",
       "      <td>-0.137558<\/td>\n",
       "      <td>1.793050<\/td>\n",
       "      <td>-2.229763<\/td>\n",
       "      <td>-2.128397<\/td>\n",
       "    <\/tr>\n",
       "    <tr>\n",
       "      <th>2024-01-17<\/th>\n",
       "      <td>-0.118528<\/td>\n",
       "      <td>0.179487<\/td>\n",
       "      <td>-0.849599<\/td>\n",
       "      <td>0.734276<\/td>\n",
       "    <\/tr>\n",
       "    <tr>\n",
       "      <th>2024-01-18<\/th>\n",
       "      <td>0.507873<\/td>\n",
       "      <td>0.041931<\/td>\n",
       "      <td>-0.248179<\/td>\n",
       "      <td>1.157436<\/td>\n",
       "    <\/tr>\n",
       "    <tr>\n",
       "      <th>2024-01-19<\/th>\n",
       "      <td>0.941150<\/td>\n",
       "      <td>1.838320<\/td>\n",
       "      <td>1.211618<\/td>\n",
       "      <td>0.338250<\/td>\n",
       "    <\/tr>\n",
       "    <tr>\n",
       "      <th>2024-01-20<\/th>\n",
       "      <td>0.833380<\/td>\n",
       "      <td>1.363897<\/td>\n",
       "      <td>-0.559107<\/td>\n",
       "      <td>-1.277882<\/td>\n",
       "    <\/tr>\n",
       "  <\/tbody>\n",
       "<\/table>\n",
       "<\/div>"
      ]
     },
     "metadata":{
      
     },
     "output_type":"display_data"
    }
   ],
   "metadata":{
    "datalore":{
     "node_id":"mDsYeDoCHa1rm76a03SUzb",
     "type":"CODE",
     "hide_input_from_viewers":true,
     "hide_output_from_viewers":true
    }
   }
  },
  {
   "cell_type":"code",
   "source":[
    "s = \"lajkonik\"\n",
    "s"
   ],
   "execution_count":12,
   "outputs":[
    {
     "data":{
      "text\/plain":[
       "'lajkonik'"
      ]
     },
     "metadata":{
      
     },
     "output_type":"display_data"
    }
   ],
   "metadata":{
    "datalore":{
     "node_id":"5TYbxYDBUPIDbUmfBhtpAf",
     "type":"CODE",
     "hide_input_from_viewers":true,
     "hide_output_from_viewers":true
    }
   }
  },
  {
   "cell_type":"code",
   "source":[
    "s[0]"
   ],
   "execution_count":13,
   "outputs":[
    {
     "data":{
      "text\/plain":[
       "'l'"
      ]
     },
     "metadata":{
      
     },
     "output_type":"display_data"
    }
   ],
   "metadata":{
    "datalore":{
     "node_id":"XoYl1cexx8lEo2AkUR2aI5",
     "type":"CODE",
     "hide_input_from_viewers":true,
     "hide_output_from_viewers":true
    }
   }
  },
  {
   "cell_type":"code",
   "source":[
    "s[1]"
   ],
   "execution_count":14,
   "outputs":[
    {
     "data":{
      "text\/plain":[
       "'a'"
      ]
     },
     "metadata":{
      
     },
     "output_type":"display_data"
    }
   ],
   "metadata":{
    "datalore":{
     "node_id":"ukSnSZl2EPvwbLDXixwMqe",
     "type":"CODE",
     "hide_input_from_viewers":true,
     "hide_output_from_viewers":true
    }
   }
  },
  {
   "cell_type":"code",
   "source":[
    "s[2:6]"
   ],
   "execution_count":15,
   "outputs":[
    {
     "data":{
      "text\/plain":[
       "'jkon'"
      ]
     },
     "metadata":{
      
     },
     "output_type":"display_data"
    }
   ],
   "metadata":{
    "datalore":{
     "node_id":"jInXqfbfCE8RBAkXcEPOM5",
     "type":"CODE",
     "hide_input_from_viewers":true,
     "hide_output_from_viewers":true
    }
   }
  },
  {
   "cell_type":"code",
   "source":[
    "s[::-1]"
   ],
   "execution_count":16,
   "outputs":[
    {
     "data":{
      "text\/plain":[
       "'kinokjal'"
      ]
     },
     "metadata":{
      
     },
     "output_type":"display_data"
    }
   ],
   "metadata":{
    "datalore":{
     "node_id":"YxikSRUd5qf9y5WZrsivZ4",
     "type":"CODE",
     "hide_input_from_viewers":true,
     "hide_output_from_viewers":true
    }
   }
  }
 ],
 "metadata":{
  "kernelspec":{
   "display_name":"Python",
   "language":"python",
   "name":"python"
  },
  "datalore":{
   "computation_mode":"JUPYTER",
   "package_manager":"pip",
   "base_environment":"default",
   "packages":[
    
   ],
   "report_row_ids":[
    
   ],
   "version":3
  }
 },
 "nbformat":4,
 "nbformat_minor":4
}