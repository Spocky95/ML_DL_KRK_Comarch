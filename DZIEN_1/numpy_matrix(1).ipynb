{
 "cells":[
  {
   "cell_type":"code",
   "source":[
    "import numpy as np"
   ],
   "execution_count":1,
   "outputs":[
    
   ],
   "metadata":{
    "datalore":{
     "node_id":"RbxI8MWOMP1l4DACjukD4t",
     "type":"CODE",
     "hide_input_from_viewers":true,
     "hide_output_from_viewers":true
    }
   }
  },
  {
   "cell_type":"code",
   "source":[
    "# stwórz tensor oparty na 32 elementowym wektorze \n",
    "# Creating a 32-element vector\n",
    "vector = np.arange(32)\n",
    "# Reshaping the vector into a 5-D tensor\n",
    "tensor = vector.reshape((2, 2, 2, 2, 2))"
   ],
   "execution_count":2,
   "outputs":[
    
   ],
   "metadata":{
    "datalore":{
     "node_id":"boWrCa3wxu1qw5M0KiDL82",
     "type":"CODE",
     "hide_input_from_viewers":true,
     "hide_output_from_viewers":true
    }
   }
  },
  {
   "cell_type":"code",
   "source":[
    "tensor"
   ],
   "execution_count":3,
   "outputs":[
    {
     "data":{
      "text\/plain":[
       "array([[[[[ 0,  1],\n",
       "          [ 2,  3]],\n",
       "\n",
       "         [[ 4,  5],\n",
       "          [ 6,  7]]],\n",
       "\n",
       "\n",
       "        [[[ 8,  9],\n",
       "          [10, 11]],\n",
       "\n",
       "         [[12, 13],\n",
       "          [14, 15]]]],\n",
       "\n",
       "\n",
       "\n",
       "       [[[[16, 17],\n",
       "          [18, 19]],\n",
       "\n",
       "         [[20, 21],\n",
       "          [22, 23]]],\n",
       "\n",
       "\n",
       "        [[[24, 25],\n",
       "          [26, 27]],\n",
       "\n",
       "         [[28, 29],\n",
       "          [30, 31]]]]])"
      ]
     },
     "metadata":{
      
     },
     "output_type":"display_data"
    }
   ],
   "metadata":{
    "datalore":{
     "node_id":"FT3Gvauc8TAbZDNIMAJz7N",
     "type":"CODE",
     "hide_input_from_viewers":true,
     "hide_output_from_viewers":true
    }
   }
  },
  {
   "cell_type":"markdown",
   "source":[
    "To jest pierwszy **notebook** oparty na mechanizmie <span style=\"color:red;font-size:20pt;\">Jupyter Notebook<\/span>"
   ],
   "attachments":{
    
   },
   "metadata":{
    "datalore":{
     "node_id":"SrmfYU3PWEfXVXzlxxJVuj",
     "type":"MD",
     "hide_input_from_viewers":true,
     "hide_output_from_viewers":true
    }
   }
  },
  {
   "cell_type":"code",
   "source":[
    "wektor= np.array([5,2,6,3,6,3,6,3])\n",
    "wektor"
   ],
   "execution_count":4,
   "outputs":[
    {
     "data":{
      "text\/html":[
       "<pre>array([5, 2, 6, 3, 6, 3, 6, 3])<\/pre>"
      ]
     },
     "metadata":{
      
     },
     "output_type":"display_data"
    }
   ],
   "metadata":{
    "datalore":{
     "node_id":"7x8k9cl5rSnIZToGpWw97c",
     "type":"CODE",
     "hide_input_from_viewers":true,
     "hide_output_from_viewers":true
    }
   }
  },
  {
   "cell_type":"code",
   "source":[
    "w = np.array([[1,2,3,4],[9,10,11,12],[34,27,89,54]])"
   ],
   "execution_count":5,
   "outputs":[
    
   ],
   "metadata":{
    "datalore":{
     "node_id":"xFaQY87uwm4jrrGpQtSOrl",
     "type":"CODE",
     "hide_input_from_viewers":true,
     "hide_output_from_viewers":true
    }
   }
  },
  {
   "cell_type":"code",
   "source":[
    "w"
   ],
   "execution_count":6,
   "outputs":[
    {
     "data":{
      "text\/html":[
       "<pre>array([[ 1,  2,  3,  4],\n",
       "       [ 9, 10, 11, 12],\n",
       "       [34, 27, 89, 54]])<\/pre>"
      ]
     },
     "metadata":{
      
     },
     "output_type":"display_data"
    }
   ],
   "metadata":{
    "datalore":{
     "node_id":"sldLfQb7huXVp9Byv3Fe8V",
     "type":"CODE",
     "hide_input_from_viewers":true,
     "hide_output_from_viewers":true
    }
   }
  },
  {
   "cell_type":"code",
   "source":[
    "w[w<5]"
   ],
   "execution_count":7,
   "outputs":[
    {
     "data":{
      "text\/html":[
       "<pre>array([1, 2, 3, 4])<\/pre>"
      ]
     },
     "metadata":{
      
     },
     "output_type":"display_data"
    }
   ],
   "metadata":{
    "datalore":{
     "node_id":"7pTC6ZD8Ia6xkCEMe7lsIn",
     "type":"CODE",
     "hide_input_from_viewers":true,
     "hide_output_from_viewers":true
    }
   }
  },
  {
   "cell_type":"code",
   "source":[
    "pc = (w>5)\n",
    "w[pc]"
   ],
   "execution_count":8,
   "outputs":[
    {
     "data":{
      "text\/html":[
       "<pre>array([ 9, 10, 11, 12, 34, 27, 89, 54])<\/pre>"
      ]
     },
     "metadata":{
      
     },
     "output_type":"display_data"
    }
   ],
   "metadata":{
    "datalore":{
     "node_id":"tNo92tK4dP0M6ZHgLrz0n4",
     "type":"CODE",
     "hide_input_from_viewers":true,
     "hide_output_from_viewers":true
    }
   }
  },
  {
   "cell_type":"code",
   "source":[
    "lw = (w%2==0)\n",
    "w[lw]"
   ],
   "execution_count":9,
   "outputs":[
    {
     "data":{
      "text\/html":[
       "<pre>array([ 2,  4, 10, 12, 34, 54])<\/pre>"
      ]
     },
     "metadata":{
      
     },
     "output_type":"display_data"
    }
   ],
   "metadata":{
    "datalore":{
     "node_id":"xTUe8y8pENoZrxo2CnImOz",
     "type":"CODE",
     "hide_input_from_viewers":true,
     "hide_output_from_viewers":true
    }
   }
  },
  {
   "cell_type":"code",
   "source":[
    "cv = w[(w>2)&(w<=21)]\n",
    "cv"
   ],
   "execution_count":10,
   "outputs":[
    {
     "data":{
      "text\/html":[
       "<pre>array([ 3,  4,  9, 10, 11, 12])<\/pre>"
      ]
     },
     "metadata":{
      
     },
     "output_type":"display_data"
    }
   ],
   "metadata":{
    "datalore":{
     "node_id":"f4oJtbm7Uos3Wm6mpvkOPt",
     "type":"CODE",
     "hide_input_from_viewers":true,
     "hide_output_from_viewers":true
    }
   }
  },
  {
   "cell_type":"code",
   "source":[
    "dane = np.array([1,3,8])\n",
    "one = np.ones(3,dtype=int)\n",
    "tw = np.array([2,2,3])"
   ],
   "execution_count":11,
   "outputs":[
    
   ],
   "metadata":{
    "datalore":{
     "node_id":"dmCvqM6VARGwXnz3zIhVbe",
     "type":"CODE",
     "hide_input_from_viewers":true,
     "hide_output_from_viewers":true
    }
   }
  },
  {
   "cell_type":"code",
   "source":[
    "print(dane+one)"
   ],
   "execution_count":12,
   "outputs":[
    {
     "name":"stdout",
     "text":[
      "[2 4 9]\n"
     ],
     "output_type":"stream"
    }
   ],
   "metadata":{
    "datalore":{
     "node_id":"eYnlJiYtHpCiI8OYPCOzS1",
     "type":"CODE",
     "hide_input_from_viewers":true,
     "hide_output_from_viewers":true
    }
   }
  },
  {
   "cell_type":"code",
   "source":[
    "print(dane-one)"
   ],
   "execution_count":13,
   "outputs":[
    {
     "name":"stdout",
     "text":[
      "[0 2 7]\n"
     ],
     "output_type":"stream"
    }
   ],
   "metadata":{
    "datalore":{
     "node_id":"uBhqsrQrH5iCdYqi6SS4K5",
     "type":"CODE",
     "hide_input_from_viewers":true,
     "hide_output_from_viewers":true
    }
   }
  },
  {
   "cell_type":"code",
   "source":[
    "print(dane*tw)"
   ],
   "execution_count":14,
   "outputs":[
    {
     "name":"stdout",
     "text":[
      "[ 2  6 24]\n"
     ],
     "output_type":"stream"
    }
   ],
   "metadata":{
    "datalore":{
     "node_id":"JH7trpZKN19tSfuQ8g3Ghn",
     "type":"CODE",
     "hide_input_from_viewers":true,
     "hide_output_from_viewers":true
    }
   }
  },
  {
   "cell_type":"code",
   "source":[
    "m1 = np.array([[4,8,11],[67,101,3],[1,1,77]])\n",
    "m2 = np.array([[488,9,3],[23,89,3],[2,4,11]])\n",
    "\n",
    "wynik = (m1+m2)*m1\n",
    "wynik"
   ],
   "execution_count":15,
   "outputs":[
    {
     "data":{
      "text\/html":[
       "<pre>array([[ 1968,   136,   154],\n",
       "       [ 6030, 19190,    18],\n",
       "       [    3,     5,  6776]])<\/pre>"
      ]
     },
     "metadata":{
      
     },
     "output_type":"display_data"
    }
   ],
   "metadata":{
    "datalore":{
     "node_id":"wnEVvY4u2AikcWjSJMFcqZ",
     "type":"CODE",
     "hide_input_from_viewers":true,
     "hide_output_from_viewers":true
    }
   }
  },
  {
   "cell_type":"code",
   "source":[
    "print(f'wartość minimum: {wynik.min()}')\n",
    "print(f'wartość maksimum: {wynik.max()}')\n",
    "print(f'wartość średnia: {wynik.mean()}')\n",
    "print(f'wartość średnie odchyl std: {wynik.std()}')"
   ],
   "execution_count":16,
   "outputs":[
    {
     "name":"stdout",
     "text":[
      "wartość minimum: 3\n",
      "wartość maksimum: 19190\n",
      "wartość średnia: 3808.8888888888887\n",
      "wartość średnie odchyl std: 5998.870809381906\n"
     ],
     "output_type":"stream"
    }
   ],
   "metadata":{
    "datalore":{
     "node_id":"aCMuZnvn6JIk7qIJ6p4qRQ",
     "type":"CODE",
     "hide_input_from_viewers":true,
     "hide_output_from_viewers":true
    }
   }
  }
 ],
 "metadata":{
  "kernelspec":{
   "display_name":"Python",
   "language":"python",
   "name":"python"
  },
  "datalore":{
   "computation_mode":"JUPYTER",
   "package_manager":"pip",
   "base_environment":"default",
   "packages":[
    
   ],
   "report_row_ids":[
    
   ],
   "version":3
  }
 },
 "nbformat":4,
 "nbformat_minor":4
}